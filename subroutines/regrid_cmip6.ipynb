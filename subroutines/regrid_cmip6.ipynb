{
 "cells": [
  {
   "cell_type": "code",
   "execution_count": 1,
   "metadata": {},
   "outputs": [],
   "source": [
    "import xesmf as xe"
   ]
  },
  {
   "cell_type": "code",
   "execution_count": 3,
   "metadata": {},
   "outputs": [],
   "source": [
    "def regrid_variable(varname,ds_in,ds_out,transpose=True):\n",
    "    regridder = xe.Regridder(ds_in, ds_out, 'patch', reuse_weights=True)\n",
    "    regridder._grid_in = None\n",
    "    regridder._grid_out = None\n",
    "               \n",
    "    if transpose:\n",
    "        return regridder(ds_in[varname].T)\n",
    "    else:\n",
    "        return regridder(ds_in[varname])"
   ]
  },
  {
   "cell_type": "code",
   "execution_count": null,
   "metadata": {},
   "outputs": [],
   "source": []
  }
 ],
 "metadata": {
  "kernelspec": {
   "display_name": "Python 3",
   "language": "python",
   "name": "python3"
  },
  "language_info": {
   "codemirror_mode": {
    "name": "ipython",
    "version": 3
   },
   "file_extension": ".py",
   "mimetype": "text/x-python",
   "name": "python",
   "nbconvert_exporter": "python",
   "pygments_lexer": "ipython3",
   "version": "3.7.4"
  }
 },
 "nbformat": 4,
 "nbformat_minor": 4
}
